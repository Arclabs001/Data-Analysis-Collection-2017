{
 "cells": [
  {
   "cell_type": "code",
   "execution_count": 1,
   "metadata": {
    "collapsed": false
   },
   "outputs": [],
   "source": [
    "# 引入必要的库\n",
    "import numpy as np\n",
    "import matplotlib.pyplot as plt\n",
    "import scipy as sp\n",
    "from scipy import stats\n",
    "import pylab\n",
    "import seaborn\n",
    "import pandas as pd\n",
    "import datetime\n",
    "\n",
    "# 设置绘图参数\n",
    "%matplotlib inline\n",
    "pylab.rcParams['figure.figsize'] = (16, 8)\n",
    "\n",
    "# 数据文件地址\n",
    "filename = \"./presidential_polls.csv\""
   ]
  },
  {
   "cell_type": "markdown",
   "metadata": {},
   "source": [
    "# 数据预处理"
   ]
  },
  {
   "cell_type": "code",
   "execution_count": 2,
   "metadata": {
    "collapsed": false
   },
   "outputs": [
    {
     "data": {
      "text/html": [
       "<div>\n",
       "<table border=\"1\" class=\"dataframe\">\n",
       "  <thead>\n",
       "    <tr style=\"text-align: right;\">\n",
       "      <th></th>\n",
       "      <th>cycle</th>\n",
       "      <th>branch</th>\n",
       "      <th>type</th>\n",
       "      <th>matchup</th>\n",
       "      <th>forecastdate</th>\n",
       "      <th>state</th>\n",
       "      <th>startdate</th>\n",
       "      <th>enddate</th>\n",
       "      <th>pollster</th>\n",
       "      <th>grade</th>\n",
       "      <th>...</th>\n",
       "      <th>adjpoll_clinton</th>\n",
       "      <th>adjpoll_trump</th>\n",
       "      <th>adjpoll_johnson</th>\n",
       "      <th>adjpoll_mcmullin</th>\n",
       "      <th>multiversions</th>\n",
       "      <th>url</th>\n",
       "      <th>poll_id</th>\n",
       "      <th>question_id</th>\n",
       "      <th>createddate</th>\n",
       "      <th>timestamp</th>\n",
       "    </tr>\n",
       "  </thead>\n",
       "  <tbody>\n",
       "    <tr>\n",
       "      <th>0</th>\n",
       "      <td>2016</td>\n",
       "      <td>President</td>\n",
       "      <td>polls-plus</td>\n",
       "      <td>Clinton vs. Trump vs. Johnson</td>\n",
       "      <td>11/1/16</td>\n",
       "      <td>U.S.</td>\n",
       "      <td>10/25/2016</td>\n",
       "      <td>10/31/2016</td>\n",
       "      <td>Google Consumer Surveys</td>\n",
       "      <td>B</td>\n",
       "      <td>...</td>\n",
       "      <td>42.64140</td>\n",
       "      <td>40.86509</td>\n",
       "      <td>5.675099</td>\n",
       "      <td>NaN</td>\n",
       "      <td>NaN</td>\n",
       "      <td>https://datastudio.google.com/u/0/#/org//repor...</td>\n",
       "      <td>47940</td>\n",
       "      <td>74999</td>\n",
       "      <td>11/1/16</td>\n",
       "      <td>15:09:38  1 Nov 2016</td>\n",
       "    </tr>\n",
       "    <tr>\n",
       "      <th>1</th>\n",
       "      <td>2016</td>\n",
       "      <td>President</td>\n",
       "      <td>polls-plus</td>\n",
       "      <td>Clinton vs. Trump vs. Johnson</td>\n",
       "      <td>11/1/16</td>\n",
       "      <td>U.S.</td>\n",
       "      <td>10/27/2016</td>\n",
       "      <td>10/30/2016</td>\n",
       "      <td>ABC News/Washington Post</td>\n",
       "      <td>A+</td>\n",
       "      <td>...</td>\n",
       "      <td>43.29659</td>\n",
       "      <td>44.72984</td>\n",
       "      <td>3.401513</td>\n",
       "      <td>NaN</td>\n",
       "      <td>NaN</td>\n",
       "      <td>http://www.langerresearch.com/wp-content/uploa...</td>\n",
       "      <td>47881</td>\n",
       "      <td>74936</td>\n",
       "      <td>11/1/16</td>\n",
       "      <td>15:09:38  1 Nov 2016</td>\n",
       "    </tr>\n",
       "    <tr>\n",
       "      <th>2</th>\n",
       "      <td>2016</td>\n",
       "      <td>President</td>\n",
       "      <td>polls-plus</td>\n",
       "      <td>Clinton vs. Trump vs. Johnson</td>\n",
       "      <td>11/1/16</td>\n",
       "      <td>Virginia</td>\n",
       "      <td>10/27/2016</td>\n",
       "      <td>10/30/2016</td>\n",
       "      <td>ABC News/Washington Post</td>\n",
       "      <td>A+</td>\n",
       "      <td>...</td>\n",
       "      <td>46.29779</td>\n",
       "      <td>40.72604</td>\n",
       "      <td>6.401513</td>\n",
       "      <td>NaN</td>\n",
       "      <td>NaN</td>\n",
       "      <td>https://www.washingtonpost.com/local/virginia-...</td>\n",
       "      <td>47880</td>\n",
       "      <td>74934</td>\n",
       "      <td>11/1/16</td>\n",
       "      <td>15:09:38  1 Nov 2016</td>\n",
       "    </tr>\n",
       "    <tr>\n",
       "      <th>3</th>\n",
       "      <td>2016</td>\n",
       "      <td>President</td>\n",
       "      <td>polls-plus</td>\n",
       "      <td>Clinton vs. Trump vs. Johnson</td>\n",
       "      <td>11/1/16</td>\n",
       "      <td>Florida</td>\n",
       "      <td>10/20/2016</td>\n",
       "      <td>10/24/2016</td>\n",
       "      <td>SurveyUSA</td>\n",
       "      <td>A</td>\n",
       "      <td>...</td>\n",
       "      <td>46.35931</td>\n",
       "      <td>45.30585</td>\n",
       "      <td>1.777730</td>\n",
       "      <td>NaN</td>\n",
       "      <td>NaN</td>\n",
       "      <td>http://www.baynews9.com/content/news/baynews9/...</td>\n",
       "      <td>47465</td>\n",
       "      <td>74252</td>\n",
       "      <td>10/25/16</td>\n",
       "      <td>15:09:38  1 Nov 2016</td>\n",
       "    </tr>\n",
       "    <tr>\n",
       "      <th>4</th>\n",
       "      <td>2016</td>\n",
       "      <td>President</td>\n",
       "      <td>polls-plus</td>\n",
       "      <td>Clinton vs. Trump vs. Johnson</td>\n",
       "      <td>11/1/16</td>\n",
       "      <td>U.S.</td>\n",
       "      <td>10/20/2016</td>\n",
       "      <td>10/25/2016</td>\n",
       "      <td>Pew Research Center</td>\n",
       "      <td>B+</td>\n",
       "      <td>...</td>\n",
       "      <td>45.32744</td>\n",
       "      <td>42.20888</td>\n",
       "      <td>3.618320</td>\n",
       "      <td>NaN</td>\n",
       "      <td>NaN</td>\n",
       "      <td>http://www.people-press.org/2016/10/27/as-elec...</td>\n",
       "      <td>47616</td>\n",
       "      <td>74519</td>\n",
       "      <td>10/27/16</td>\n",
       "      <td>15:09:38  1 Nov 2016</td>\n",
       "    </tr>\n",
       "  </tbody>\n",
       "</table>\n",
       "<p>5 rows × 27 columns</p>\n",
       "</div>"
      ],
      "text/plain": [
       "   cycle     branch        type                        matchup forecastdate  \\\n",
       "0   2016  President  polls-plus  Clinton vs. Trump vs. Johnson      11/1/16   \n",
       "1   2016  President  polls-plus  Clinton vs. Trump vs. Johnson      11/1/16   \n",
       "2   2016  President  polls-plus  Clinton vs. Trump vs. Johnson      11/1/16   \n",
       "3   2016  President  polls-plus  Clinton vs. Trump vs. Johnson      11/1/16   \n",
       "4   2016  President  polls-plus  Clinton vs. Trump vs. Johnson      11/1/16   \n",
       "\n",
       "      state   startdate     enddate                  pollster grade  \\\n",
       "0      U.S.  10/25/2016  10/31/2016   Google Consumer Surveys     B   \n",
       "1      U.S.  10/27/2016  10/30/2016  ABC News/Washington Post    A+   \n",
       "2  Virginia  10/27/2016  10/30/2016  ABC News/Washington Post    A+   \n",
       "3   Florida  10/20/2016  10/24/2016                 SurveyUSA     A   \n",
       "4      U.S.  10/20/2016  10/25/2016       Pew Research Center    B+   \n",
       "\n",
       "           ...           adjpoll_clinton adjpoll_trump  adjpoll_johnson  \\\n",
       "0          ...                  42.64140      40.86509         5.675099   \n",
       "1          ...                  43.29659      44.72984         3.401513   \n",
       "2          ...                  46.29779      40.72604         6.401513   \n",
       "3          ...                  46.35931      45.30585         1.777730   \n",
       "4          ...                  45.32744      42.20888         3.618320   \n",
       "\n",
       "   adjpoll_mcmullin  multiversions  \\\n",
       "0               NaN            NaN   \n",
       "1               NaN            NaN   \n",
       "2               NaN            NaN   \n",
       "3               NaN            NaN   \n",
       "4               NaN            NaN   \n",
       "\n",
       "                                                 url  poll_id  question_id  \\\n",
       "0  https://datastudio.google.com/u/0/#/org//repor...    47940        74999   \n",
       "1  http://www.langerresearch.com/wp-content/uploa...    47881        74936   \n",
       "2  https://www.washingtonpost.com/local/virginia-...    47880        74934   \n",
       "3  http://www.baynews9.com/content/news/baynews9/...    47465        74252   \n",
       "4  http://www.people-press.org/2016/10/27/as-elec...    47616        74519   \n",
       "\n",
       "   createddate             timestamp  \n",
       "0      11/1/16  15:09:38  1 Nov 2016  \n",
       "1      11/1/16  15:09:38  1 Nov 2016  \n",
       "2      11/1/16  15:09:38  1 Nov 2016  \n",
       "3     10/25/16  15:09:38  1 Nov 2016  \n",
       "4     10/27/16  15:09:38  1 Nov 2016  \n",
       "\n",
       "[5 rows x 27 columns]"
      ]
     },
     "execution_count": 2,
     "metadata": {},
     "output_type": "execute_result"
    }
   ],
   "source": [
    "# 读取文件到一个DataFrame\n",
    "df = pd.read_csv(filename)\n",
    "df.head()"
   ]
  },
  {
   "cell_type": "code",
   "execution_count": 3,
   "metadata": {
    "collapsed": false
   },
   "outputs": [
    {
     "name": "stdout",
     "output_type": "stream",
     "text": [
      "Index([u'cycle', u'branch', u'type', u'matchup', u'forecastdate', u'state',\n",
      "       u'startdate', u'enddate', u'pollster', u'grade', u'samplesize',\n",
      "       u'population', u'poll_wt', u'rawpoll_clinton', u'rawpoll_trump',\n",
      "       u'rawpoll_johnson', u'rawpoll_mcmullin', u'adjpoll_clinton',\n",
      "       u'adjpoll_trump', u'adjpoll_johnson', u'adjpoll_mcmullin',\n",
      "       u'multiversions', u'url', u'poll_id', u'question_id', u'createddate',\n",
      "       u'timestamp'],\n",
      "      dtype='object')\n"
     ]
    }
   ],
   "source": [
    "# 查看列名\n",
    "print df.columns"
   ]
  },
  {
   "cell_type": "code",
   "execution_count": 4,
   "metadata": {
    "collapsed": false
   },
   "outputs": [
    {
     "data": {
      "text/html": [
       "<div>\n",
       "<table border=\"1\" class=\"dataframe\">\n",
       "  <thead>\n",
       "    <tr style=\"text-align: right;\">\n",
       "      <th></th>\n",
       "      <th>enddate</th>\n",
       "      <th>rawpoll_clinton</th>\n",
       "      <th>rawpoll_trump</th>\n",
       "      <th>adjpoll_clinton</th>\n",
       "      <th>adjpoll_trump</th>\n",
       "    </tr>\n",
       "  </thead>\n",
       "  <tbody>\n",
       "    <tr>\n",
       "      <th>0</th>\n",
       "      <td>10/31/2016</td>\n",
       "      <td>37.69</td>\n",
       "      <td>35.07</td>\n",
       "      <td>42.64140</td>\n",
       "      <td>40.86509</td>\n",
       "    </tr>\n",
       "    <tr>\n",
       "      <th>1</th>\n",
       "      <td>10/30/2016</td>\n",
       "      <td>45.00</td>\n",
       "      <td>46.00</td>\n",
       "      <td>43.29659</td>\n",
       "      <td>44.72984</td>\n",
       "    </tr>\n",
       "    <tr>\n",
       "      <th>2</th>\n",
       "      <td>10/30/2016</td>\n",
       "      <td>48.00</td>\n",
       "      <td>42.00</td>\n",
       "      <td>46.29779</td>\n",
       "      <td>40.72604</td>\n",
       "    </tr>\n",
       "    <tr>\n",
       "      <th>3</th>\n",
       "      <td>10/24/2016</td>\n",
       "      <td>48.00</td>\n",
       "      <td>45.00</td>\n",
       "      <td>46.35931</td>\n",
       "      <td>45.30585</td>\n",
       "    </tr>\n",
       "    <tr>\n",
       "      <th>4</th>\n",
       "      <td>10/25/2016</td>\n",
       "      <td>46.00</td>\n",
       "      <td>40.00</td>\n",
       "      <td>45.32744</td>\n",
       "      <td>42.20888</td>\n",
       "    </tr>\n",
       "  </tbody>\n",
       "</table>\n",
       "</div>"
      ],
      "text/plain": [
       "      enddate  rawpoll_clinton  rawpoll_trump  adjpoll_clinton  adjpoll_trump\n",
       "0  10/31/2016            37.69          35.07         42.64140       40.86509\n",
       "1  10/30/2016            45.00          46.00         43.29659       44.72984\n",
       "2  10/30/2016            48.00          42.00         46.29779       40.72604\n",
       "3  10/24/2016            48.00          45.00         46.35931       45.30585\n",
       "4  10/25/2016            46.00          40.00         45.32744       42.20888"
      ]
     },
     "execution_count": 4,
     "metadata": {},
     "output_type": "execute_result"
    }
   ],
   "source": [
    "# 使用的列名\n",
    "use_columns = ['enddate', 'rawpoll_clinton', 'rawpoll_trump', 'adjpoll_clinton', 'adjpoll_trump']\n",
    "\n",
    "# 获取相应的DataFrame\n",
    "df = df[use_columns]\n",
    "df.head()"
   ]
  },
  {
   "cell_type": "code",
   "execution_count": 5,
   "metadata": {
    "collapsed": false
   },
   "outputs": [
    {
     "data": {
      "text/plain": [
       "enddate             object\n",
       "rawpoll_clinton    float64\n",
       "rawpoll_trump      float64\n",
       "adjpoll_clinton    float64\n",
       "adjpoll_trump      float64\n",
       "dtype: object"
      ]
     },
     "execution_count": 5,
     "metadata": {},
     "output_type": "execute_result"
    }
   ],
   "source": [
    "# 查看变量类别\n",
    "df.dtypes"
   ]
  },
  {
   "cell_type": "code",
   "execution_count": 6,
   "metadata": {
    "collapsed": false
   },
   "outputs": [
    {
     "data": {
      "text/plain": [
       "10236"
      ]
     },
     "execution_count": 6,
     "metadata": {},
     "output_type": "execute_result"
    }
   ],
   "source": [
    "# 处理日期格式数据\n",
    "enddates = df['enddate'].values.tolist()\n",
    "len(enddates)"
   ]
  },
  {
   "cell_type": "code",
   "execution_count": 7,
   "metadata": {
    "collapsed": false
   },
   "outputs": [
    {
     "data": {
      "text/plain": [
       "[datetime.datetime(2016, 10, 31, 0, 0),\n",
       " datetime.datetime(2016, 10, 30, 0, 0),\n",
       " datetime.datetime(2016, 10, 30, 0, 0),\n",
       " datetime.datetime(2016, 10, 24, 0, 0),\n",
       " datetime.datetime(2016, 10, 25, 0, 0)]"
      ]
     },
     "execution_count": 7,
     "metadata": {},
     "output_type": "execute_result"
    }
   ],
   "source": [
    "# 将日期字符串格式统一为 'YYYY/mm/dd'\n",
    "enddates = [enddate.replace(\"-\", \"/\") for enddate in enddates]\n",
    "date_lst = [datetime.datetime.strptime(endtime, \"%m/%d/%Y\") for endtime in enddates]\n",
    "\n",
    "date_lst[0:5]"
   ]
  },
  {
   "cell_type": "markdown",
   "metadata": {},
   "source": [
    "## 构造年份-月份列表"
   ]
  },
  {
   "cell_type": "code",
   "execution_count": 8,
   "metadata": {
    "collapsed": false
   },
   "outputs": [
    {
     "name": "stdout",
     "output_type": "stream",
     "text": [
      "<type 'numpy.ndarray'>\n",
      "['2015-11' '2015-12' '2016-01' '2016-02' '2016-03' '2016-04' '2016-05'\n",
      " '2016-06' '2016-07' '2016-08' '2016-09' '2016-10']\n"
     ]
    }
   ],
   "source": [
    "month_lst = ['%d-%02d' % (date_obj.year, date_obj.month) for date_obj in date_lst]\n",
    "months = np.unique(month_lst)\n",
    "print type(months)\n",
    "print months"
   ]
  },
  {
   "cell_type": "code",
   "execution_count": 9,
   "metadata": {
    "collapsed": false
   },
   "outputs": [
    {
     "data": {
      "text/html": [
       "<div>\n",
       "<table border=\"1\" class=\"dataframe\">\n",
       "  <thead>\n",
       "    <tr style=\"text-align: right;\">\n",
       "      <th></th>\n",
       "      <th>enddate</th>\n",
       "      <th>rawpoll_clinton</th>\n",
       "      <th>rawpoll_trump</th>\n",
       "      <th>adjpoll_clinton</th>\n",
       "      <th>adjpoll_trump</th>\n",
       "    </tr>\n",
       "  </thead>\n",
       "  <tbody>\n",
       "    <tr>\n",
       "      <th>0</th>\n",
       "      <td>2016-10</td>\n",
       "      <td>37.69</td>\n",
       "      <td>35.07</td>\n",
       "      <td>42.64140</td>\n",
       "      <td>40.86509</td>\n",
       "    </tr>\n",
       "    <tr>\n",
       "      <th>1</th>\n",
       "      <td>2016-10</td>\n",
       "      <td>45.00</td>\n",
       "      <td>46.00</td>\n",
       "      <td>43.29659</td>\n",
       "      <td>44.72984</td>\n",
       "    </tr>\n",
       "    <tr>\n",
       "      <th>2</th>\n",
       "      <td>2016-10</td>\n",
       "      <td>48.00</td>\n",
       "      <td>42.00</td>\n",
       "      <td>46.29779</td>\n",
       "      <td>40.72604</td>\n",
       "    </tr>\n",
       "    <tr>\n",
       "      <th>3</th>\n",
       "      <td>2016-10</td>\n",
       "      <td>48.00</td>\n",
       "      <td>45.00</td>\n",
       "      <td>46.35931</td>\n",
       "      <td>45.30585</td>\n",
       "    </tr>\n",
       "    <tr>\n",
       "      <th>4</th>\n",
       "      <td>2016-10</td>\n",
       "      <td>46.00</td>\n",
       "      <td>40.00</td>\n",
       "      <td>45.32744</td>\n",
       "      <td>42.20888</td>\n",
       "    </tr>\n",
       "  </tbody>\n",
       "</table>\n",
       "</div>"
      ],
      "text/plain": [
       "   enddate  rawpoll_clinton  rawpoll_trump  adjpoll_clinton  adjpoll_trump\n",
       "0  2016-10            37.69          35.07         42.64140       40.86509\n",
       "1  2016-10            45.00          46.00         43.29659       44.72984\n",
       "2  2016-10            48.00          42.00         46.29779       40.72604\n",
       "3  2016-10            48.00          45.00         46.35931       45.30585\n",
       "4  2016-10            46.00          40.00         45.32744       42.20888"
      ]
     },
     "execution_count": 9,
     "metadata": {},
     "output_type": "execute_result"
    }
   ],
   "source": [
    "# 清洗后的数据\n",
    "df['enddate'] = month_lst\n",
    "df.head()"
   ]
  },
  {
   "cell_type": "markdown",
   "metadata": {},
   "source": [
    "# 数据分析\n",
    "## 统计民意投票支持率\n",
    "### Hilary Clinton & Donald Trump"
   ]
  },
  {
   "cell_type": "code",
   "execution_count": 10,
   "metadata": {
    "collapsed": true
   },
   "outputs": [],
   "source": [
    "# 计算平均值函数\n",
    "def get_avg(array):\n",
    "    length = len(array)\n",
    "    float_array = np.array(array, np.float64)\n",
    "    return np.sum(array) / length"
   ]
  },
  {
   "cell_type": "code",
   "execution_count": 11,
   "metadata": {
    "collapsed": false
   },
   "outputs": [
    {
     "data": {
      "text/html": [
       "<div>\n",
       "<table border=\"1\" class=\"dataframe\">\n",
       "  <thead>\n",
       "    <tr style=\"text-align: right;\">\n",
       "      <th></th>\n",
       "      <th>rawpoll_clinton</th>\n",
       "      <th>rawpoll_trump</th>\n",
       "      <th>adjpoll_clinton</th>\n",
       "      <th>adjpoll_trump</th>\n",
       "    </tr>\n",
       "  </thead>\n",
       "  <tbody>\n",
       "    <tr>\n",
       "      <th>2015-11</th>\n",
       "      <td>42.666667</td>\n",
       "      <td>43.293333</td>\n",
       "      <td>42.593290</td>\n",
       "      <td>43.051756</td>\n",
       "    </tr>\n",
       "    <tr>\n",
       "      <th>2015-12</th>\n",
       "      <td>44.600000</td>\n",
       "      <td>38.558333</td>\n",
       "      <td>42.937564</td>\n",
       "      <td>37.860388</td>\n",
       "    </tr>\n",
       "    <tr>\n",
       "      <th>2016-01</th>\n",
       "      <td>43.966038</td>\n",
       "      <td>39.320755</td>\n",
       "      <td>42.184695</td>\n",
       "      <td>39.297911</td>\n",
       "    </tr>\n",
       "    <tr>\n",
       "      <th>2016-02</th>\n",
       "      <td>44.542857</td>\n",
       "      <td>39.673016</td>\n",
       "      <td>42.758582</td>\n",
       "      <td>40.513853</td>\n",
       "    </tr>\n",
       "    <tr>\n",
       "      <th>2016-03</th>\n",
       "      <td>46.216471</td>\n",
       "      <td>37.787059</td>\n",
       "      <td>44.235241</td>\n",
       "      <td>39.268639</td>\n",
       "    </tr>\n",
       "    <tr>\n",
       "      <th>2016-04</th>\n",
       "      <td>47.297674</td>\n",
       "      <td>36.163953</td>\n",
       "      <td>46.010163</td>\n",
       "      <td>38.132311</td>\n",
       "    </tr>\n",
       "    <tr>\n",
       "      <th>2016-05</th>\n",
       "      <td>42.976531</td>\n",
       "      <td>39.281633</td>\n",
       "      <td>43.327604</td>\n",
       "      <td>41.431326</td>\n",
       "    </tr>\n",
       "    <tr>\n",
       "      <th>2016-06</th>\n",
       "      <td>43.208667</td>\n",
       "      <td>36.783333</td>\n",
       "      <td>45.012639</td>\n",
       "      <td>40.351423</td>\n",
       "    </tr>\n",
       "    <tr>\n",
       "      <th>2016-07</th>\n",
       "      <td>41.507389</td>\n",
       "      <td>39.555722</td>\n",
       "      <td>43.788596</td>\n",
       "      <td>42.032695</td>\n",
       "    </tr>\n",
       "    <tr>\n",
       "      <th>2016-08</th>\n",
       "      <td>40.747548</td>\n",
       "      <td>37.634221</td>\n",
       "      <td>43.479207</td>\n",
       "      <td>42.032730</td>\n",
       "    </tr>\n",
       "    <tr>\n",
       "      <th>2016-09</th>\n",
       "      <td>39.725659</td>\n",
       "      <td>39.998671</td>\n",
       "      <td>42.166441</td>\n",
       "      <td>43.127206</td>\n",
       "    </tr>\n",
       "    <tr>\n",
       "      <th>2016-10</th>\n",
       "      <td>42.146000</td>\n",
       "      <td>39.859992</td>\n",
       "      <td>42.802588</td>\n",
       "      <td>42.351049</td>\n",
       "    </tr>\n",
       "  </tbody>\n",
       "</table>\n",
       "</div>"
      ],
      "text/plain": [
       "         rawpoll_clinton  rawpoll_trump  adjpoll_clinton  adjpoll_trump\n",
       "2015-11        42.666667      43.293333        42.593290      43.051756\n",
       "2015-12        44.600000      38.558333        42.937564      37.860388\n",
       "2016-01        43.966038      39.320755        42.184695      39.297911\n",
       "2016-02        44.542857      39.673016        42.758582      40.513853\n",
       "2016-03        46.216471      37.787059        44.235241      39.268639\n",
       "2016-04        47.297674      36.163953        46.010163      38.132311\n",
       "2016-05        42.976531      39.281633        43.327604      41.431326\n",
       "2016-06        43.208667      36.783333        45.012639      40.351423\n",
       "2016-07        41.507389      39.555722        43.788596      42.032695\n",
       "2016-08        40.747548      37.634221        43.479207      42.032730\n",
       "2016-09        39.725659      39.998671        42.166441      43.127206\n",
       "2016-10        42.146000      39.859992        42.802588      42.351049"
      ]
     },
     "execution_count": 11,
     "metadata": {},
     "output_type": "execute_result"
    }
   ],
   "source": [
    "# 按月统计民调支持率\n",
    "results = pd.DataFrame(np.zeros((12,4)), index=months, columns=use_columns[1:])\n",
    "for month in months:\n",
    "    # Hilary Clinton\n",
    "    results.loc[month, \"rawpoll_clinton\"] = get_avg(df.loc[df['enddate'] == month, \"rawpoll_clinton\"])\n",
    "    results.loc[month, \"adjpoll_clinton\"] = get_avg(df.loc[df['enddate'] == month, \"adjpoll_clinton\"])\n",
    "    # Donald Trump\n",
    "    results.loc[month, \"rawpoll_trump\"] = get_avg(df.loc[df['enddate'] == month, \"rawpoll_trump\"])\n",
    "    results.loc[month, \"adjpoll_trump\"] = get_avg(df.loc[df['enddate'] == month, \"adjpoll_trump\"])\n",
    "    \n",
    "results"
   ]
  },
  {
   "cell_type": "code",
   "execution_count": 13,
   "metadata": {
    "collapsed": false
   },
   "outputs": [
    {
     "data": {
      "text/plain": [
       "<matplotlib.legend.Legend at 0x7fa9462a3a50>"
      ]
     },
     "execution_count": 13,
     "metadata": {},
     "output_type": "execute_result"
    },
    {
     "data": {
      "image/png": "[encoded data removed]",
      "text/plain": [
       "<matplotlib.figure.Figure at 0x7fa96e076a90>"
      ]
     },
     "metadata": {},
     "output_type": "display_data"
    }
   ],
   "source": [
    "# 原始民调走势图\n",
    "plt.plot(results['rawpoll_clinton'].values, 'b', label='Raw Poll Clinton')\n",
    "plt.plot(results['rawpoll_trump'].values, 'r', label='Raw Poll Trump')\n",
    "plt.xticks(range(12), months, rotation='vertical')\n",
    "plt.legend()"
   ]
  },
  {
   "cell_type": "code",
   "execution_count": 14,
   "metadata": {
    "collapsed": false
   },
   "outputs": [
    {
     "data": {
      "text/plain": [
       "<matplotlib.legend.Legend at 0x7fa9461a8510>"
      ]
     },
     "execution_count": 14,
     "metadata": {},
     "output_type": "execute_result"
    },
    {
     "data": {
      "image/png": "[encoded data removed]",
      "text/plain": [
       "<matplotlib.figure.Figure at 0x7fa96e076950>"
      ]
     },
     "metadata": {},
     "output_type": "display_data"
    }
   ],
   "source": [
    "# 调整后民调走势图\n",
    "plt.plot(results['adjpoll_clinton'].values, 'b', label='Adj Poll Clinton')\n",
    "plt.plot(results['adjpoll_trump'].values, 'r', label='Adj Poll Trump')\n",
    "plt.xticks(range(12), months, rotation='vertical')\n",
    "plt.legend()"
   ]
  }
 ],
 "metadata": {
  "kernelspec": {
   "display_name": "Python [Root]",
   "language": "python",
   "name": "Python [Root]"
  },
  "language_info": {
   "codemirror_mode": {
    "name": "ipython",
    "version": 2
   },
   "file_extension": ".py",
   "mimetype": "text/x-python",
   "name": "python",
   "nbconvert_exporter": "python",
   "pygments_lexer": "ipython2",
   "version": "2.7.12"
  }
 },
 "nbformat": 4,
 "nbformat_minor": 0
}
